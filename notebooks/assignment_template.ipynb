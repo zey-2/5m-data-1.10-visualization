{
 "cells": [
  {
   "cell_type": "markdown",
   "id": "a0f25634",
   "metadata": {},
   "source": [
    "# Assignment\n",
    "\n",
    "## Brief\n",
    "\n",
    "Write the Python codes for the following questions.\n"
   ]
  },
  {
   "cell_type": "markdown",
   "id": "fc1191e8",
   "metadata": {},
   "source": [
    "## Instructions\n",
    "\n",
    "Paste the answer as Python in the answer code section below each question.\n"
   ]
  },
  {
   "cell_type": "markdown",
   "id": "c9a8e133",
   "metadata": {},
   "source": [
    "## Import Required Libraries\n",
    "\n",
    "Import matplotlib, numpy, and seaborn as needed for the following questions.\n"
   ]
  },
  {
   "cell_type": "code",
   "execution_count": null,
   "id": "d427b8d6",
   "metadata": {},
   "outputs": [],
   "source": [
    "import matplotlib.pyplot as plt\n",
    "import numpy as np\n",
    "import seaborn as sns"
   ]
  },
  {
   "cell_type": "markdown",
   "id": "b17e0c19",
   "metadata": {},
   "source": [
    "### Question 1\n",
    "\n",
    "Question: How do you create a 2x2 subplot grid in matplotlib and select the first subplot?\n"
   ]
  },
  {
   "cell_type": "code",
   "execution_count": null,
   "id": "877a9b95",
   "metadata": {},
   "outputs": [],
   "source": []
  },
  {
   "cell_type": "markdown",
   "id": "b0b21eb1",
   "metadata": {},
   "source": [
    "### Question 2\n",
    "\n",
    "Question: How to plot a line and set the color to red and style to dash in a matplotlib plot?\n",
    "\n",
    "x = [1, 2, 3, 4]\n",
    "\n",
    "y = [1, 4, 9, 16]\n"
   ]
  },
  {
   "cell_type": "code",
   "execution_count": null,
   "id": "f881e49a",
   "metadata": {},
   "outputs": [],
   "source": [
    "x = [1, 2, 3, 4]\n",
    "y = [1, 4, 9, 16]\n",
    "\n"
   ]
  },
  {
   "cell_type": "markdown",
   "id": "773ff5cc",
   "metadata": {},
   "source": [
    "### Question 3\n",
    "\n",
    "Question: How to plot a histogram with 30 bins for `data` in matplotlib?\n",
    "\n",
    "data = np.random.randn(1000)\n"
   ]
  },
  {
   "cell_type": "code",
   "execution_count": null,
   "id": "8d94269a",
   "metadata": {},
   "outputs": [],
   "source": [
    "data = np.random.randn(1000)\n",
    "\n"
   ]
  },
  {
   "cell_type": "markdown",
   "id": "6d3faa08",
   "metadata": {},
   "source": [
    "### Question 4\n",
    "\n",
    "Question: How can you set the x-axis and y-axis labels in a matplotlib plot?\n"
   ]
  },
  {
   "cell_type": "code",
   "execution_count": null,
   "id": "8fe4bd57",
   "metadata": {},
   "outputs": [],
   "source": []
  },
  {
   "cell_type": "markdown",
   "id": "9f274273",
   "metadata": {},
   "source": [
    "### Question 5\n",
    "\n",
    "Question: How do you create a bar plot in seaborn using the `tips` dataset to show the average tip amount per day?\n",
    "\n",
    "import seaborn as sns\n",
    "\n",
    "tips = sns.load_dataset('tips')\n"
   ]
  },
  {
   "cell_type": "code",
   "execution_count": null,
   "id": "8adb4ddd",
   "metadata": {},
   "outputs": [],
   "source": [
    "tips = sns.load_dataset(\"tips\")\n"
   ]
  },
  {
   "cell_type": "markdown",
   "id": "19776015",
   "metadata": {},
   "source": [
    "### Question 6\n",
    "\n",
    "Question: How to create a box plot for total_bill categorized by day in the `tips` dataset using seaborn?\n"
   ]
  },
  {
   "cell_type": "code",
   "execution_count": null,
   "id": "9de908ad",
   "metadata": {},
   "outputs": [],
   "source": []
  },
  {
   "cell_type": "markdown",
   "id": "ecde70d4",
   "metadata": {},
   "source": [
    "## Submission\n",
    "\n",
    "- Submit the URL of the GitHub Repository that contains your work to NTU black board.\n",
    "- Should you reference the work of your classmate(s) or online resources, give them credit by adding either the name of your classmate or URL.\n"
   ]
  }
 ],
 "metadata": {
  "kernelspec": {
   "display_name": "Python 3",
   "language": "python",
   "name": "python3"
  },
  "language_info": {
   "codemirror_mode": {
    "name": "ipython",
    "version": 3
   },
   "file_extension": ".py",
   "mimetype": "text/x-python",
   "name": "python",
   "nbconvert_exporter": "python",
   "pygments_lexer": "ipython3",
   "version": "3.10.18"
  }
 },
 "nbformat": 4,
 "nbformat_minor": 5
}
